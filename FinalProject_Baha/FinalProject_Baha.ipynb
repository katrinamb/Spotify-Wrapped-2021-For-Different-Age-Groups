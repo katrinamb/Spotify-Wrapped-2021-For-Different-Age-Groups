{
 "cells": [
  {
   "cell_type": "markdown",
   "id": "c0ccf9fc-2cd7-4e3a-a357-151fe499e41b",
   "metadata": {},
   "source": [
    "# Spotify Wrapped 2021 Data"
   ]
  },
  {
   "cell_type": "code",
   "execution_count": 1,
   "id": "ffed55c2-e4e6-4191-a9fe-32a0ecdc4b4c",
   "metadata": {},
   "outputs": [],
   "source": [
    "# loading our modules\n",
    "import pandas as pd # let's us work with data structures\n",
    "import numpy as np # let's us do complex things with numbers\n",
    "import matplotlib as plt #let's us plot stuff\n",
    "from matplotlib import pyplot"
   ]
  },
  {
   "cell_type": "code",
   "execution_count": 2,
   "id": "ae43ea54-d2a9-4489-8caf-455df4dc2e6b",
   "metadata": {},
   "outputs": [],
   "source": [
    "from scipy import stats # let's us run statistical tests\n",
    "from statsmodels.graphics.gofplots import qqplot # let's us run statistical tests\n",
    "from statsmodels.formula.api import ols # let's us run statistical tests\n",
    "from statsmodels.stats.anova import anova_lm # let's us run statistical tests"
   ]
  },
  {
   "cell_type": "code",
   "execution_count": 3,
   "id": "4effb5d9-656d-4759-bf5e-d6cb34fbcbf3",
   "metadata": {},
   "outputs": [],
   "source": [
    "# loading our data\n",
    "df = pd.read_csv(\"Spotify_Cleaned.csv\", header='infer')\n"
   ]
  },
  {
   "cell_type": "code",
   "execution_count": 4,
   "id": "7b7f8003-af46-42ff-9c3c-1e3c8bdf8566",
   "metadata": {},
   "outputs": [
    {
     "data": {
      "text/plain": [
       "Text(0.5, 1.0, 'Listening Time Histogram for All Age Groups for Spotify Wrapped 2021')"
      ]
     },
     "execution_count": 4,
     "metadata": {},
     "output_type": "execute_result"
    },
    {
     "data": {
      "image/png": "[encoded data removed]",
      "text/plain": [
       "<Figure size 432x288 with 1 Axes>"
      ]
     },
     "metadata": {
      "needs_background": "light"
     },
     "output_type": "display_data"
    }
   ],
   "source": [
    "# normality of listening time\n",
    "plt.pyplot.hist(df['What is your listening time in minutes?'])\n",
    "plt.pyplot.ylabel(\"Count\")\n",
    "plt.pyplot.xlabel(\"Listening Time in Minutes\")\n",
    "plt.pyplot.title(\"Listening Time Histogram for All Age Groups for Spotify Wrapped 2021\")"
   ]
  },
  {
   "cell_type": "markdown",
   "id": "60379af8-da81-459c-adc2-4f64bd0b1095",
   "metadata": {},
   "source": [
    "## Is the age group of an individual related to their listening time in minutes for Spotify Wrapped 2021?"
   ]
  },
  {
   "cell_type": "code",
   "execution_count": 5,
   "id": "38d8ab4e-4517-4d70-b2e0-12a735b7141d",
   "metadata": {},
   "outputs": [
    {
     "data": {
      "text/plain": [
       "Ttest_indResult(statistic=0.9720660980023946, pvalue=0.33462122481360146)"
      ]
     },
     "execution_count": 5,
     "metadata": {},
     "output_type": "execute_result"
    }
   ],
   "source": [
    "stats.ttest_ind(df['What is your listening time in minutes?'][df['Which age group describes you best?'] == 'I am 18, 19, 20, 21, 22, 23, or 24 years old'],\n",
    "                df['What is your listening time in minutes?'][df['Which age group describes you best?'] == 'I am 25 years old or older'])"
   ]
  },
  {
   "cell_type": "markdown",
   "id": "828b7452-a06e-4a22-8faf-63eb5e8cf436",
   "metadata": {},
   "source": [
    "### We fail to reject the null hypothesis because the p-value (~0.335) is greater than 0.05. "
   ]
  },
  {
   "cell_type": "code",
   "execution_count": null,
   "id": "02d62ac9-ab60-41f4-b913-373c22e3287e",
   "metadata": {},
   "outputs": [],
   "source": []
  }
 ],
 "metadata": {
  "kernelspec": {
   "display_name": "Python 3 (ipykernel)",
   "language": "python",
   "name": "python3"
  },
  "language_info": {
   "codemirror_mode": {
    "name": "ipython",
    "version": 3
   },
   "file_extension": ".py",
   "mimetype": "text/x-python",
   "name": "python",
   "nbconvert_exporter": "python",
   "pygments_lexer": "ipython3",
   "version": "3.7.4"
  }
 },
 "nbformat": 4,
 "nbformat_minor": 5
}
